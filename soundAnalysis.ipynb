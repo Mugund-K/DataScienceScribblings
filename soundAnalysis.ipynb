{
  "nbformat": 4,
  "nbformat_minor": 0,
  "metadata": {
    "colab": {
      "name": "soundAnalysis.ipynb",
      "provenance": [],
      "authorship_tag": "ABX9TyP3ZhREguXksVC3Pyh6Zlkm",
      "include_colab_link": true
    },
    "kernelspec": {
      "name": "python3",
      "display_name": "Python 3"
    }
  },
  "cells": [
    {
      "cell_type": "markdown",
      "metadata": {
        "id": "view-in-github",
        "colab_type": "text"
      },
      "source": [
        "<a href=\"https://colab.research.google.com/github/Mugund-K/DataScienceScribblings/blob/main/soundAnalysis.ipynb\" target=\"_parent\"><img src=\"https://colab.research.google.com/assets/colab-badge.svg\" alt=\"Open In Colab\"/></a>"
      ]
    },
    {
      "cell_type": "code",
      "metadata": {
        "id": "TNApLBeEnrAf"
      },
      "source": [
        "import wave"
      ],
      "execution_count": 16,
      "outputs": []
    },
    {
      "cell_type": "code",
      "metadata": {
        "id": "s5_ty6CPnztu"
      },
      "source": [
        "good_morning = wave.open('good-morning.wav', 'r')"
      ],
      "execution_count": 17,
      "outputs": []
    },
    {
      "cell_type": "code",
      "metadata": {
        "id": "DUpJPblCp4fG"
      },
      "source": [
        "signal_gm = good_morning.readframes(-1)"
      ],
      "execution_count": 18,
      "outputs": []
    },
    {
      "cell_type": "code",
      "metadata": {
        "colab": {
          "base_uri": "https://localhost:8080/"
        },
        "id": "x1IeXnNup-7e",
        "outputId": "e80d9fa5-ba52-4892-ec24-3520a7083c53"
      },
      "source": [
        "signal_gm[:10]"
      ],
      "execution_count": 19,
      "outputs": [
        {
          "output_type": "execute_result",
          "data": {
            "text/plain": [
              "b'\\xfd\\xff\\xfb\\xff\\xf8\\xff\\xf8\\xff\\xf7\\xff'"
            ]
          },
          "metadata": {
            "tags": []
          },
          "execution_count": 19
        }
      ]
    },
    {
      "cell_type": "code",
      "metadata": {
        "id": "9hE0wpRnqCE-"
      },
      "source": [
        "import numpy as np\r\n",
        "sound_wave_gm = np.frombuffer(signal_gm, dtype='int16')"
      ],
      "execution_count": 20,
      "outputs": []
    },
    {
      "cell_type": "code",
      "metadata": {
        "colab": {
          "base_uri": "https://localhost:8080/"
        },
        "id": "H34MELEDqWHO",
        "outputId": "2e10854c-abff-4217-a482-88a49f13e4d8"
      },
      "source": [
        "sound_wave_gm[:10]"
      ],
      "execution_count": 21,
      "outputs": [
        {
          "output_type": "execute_result",
          "data": {
            "text/plain": [
              "array([ -3,  -5,  -8,  -8,  -9, -13,  -8, -10,  -9, -11], dtype=int16)"
            ]
          },
          "metadata": {
            "tags": []
          },
          "execution_count": 21
        }
      ]
    },
    {
      "cell_type": "code",
      "metadata": {
        "id": "EUpzCTqCqZf3"
      },
      "source": [
        "framerate_gm = good_morning.getframerate()"
      ],
      "execution_count": 22,
      "outputs": []
    },
    {
      "cell_type": "code",
      "metadata": {
        "colab": {
          "base_uri": "https://localhost:8080/"
        },
        "id": "Oof3BQ5Cqk0G",
        "outputId": "8edade82-f4e6-4e20-f901-d252f5025dd3"
      },
      "source": [
        "framerate_gm"
      ],
      "execution_count": 23,
      "outputs": [
        {
          "output_type": "execute_result",
          "data": {
            "text/plain": [
              "48000"
            ]
          },
          "metadata": {
            "tags": []
          },
          "execution_count": 23
        }
      ]
    },
    {
      "cell_type": "code",
      "metadata": {
        "id": "MyFLdbuPqmSu"
      },
      "source": [
        "time_gm = np.linspace(start=0, stop=len(sound_wave_gm)/framerate_gm, num=len(sound_wave_gm))"
      ],
      "execution_count": 24,
      "outputs": []
    },
    {
      "cell_type": "code",
      "metadata": {
        "colab": {
          "base_uri": "https://localhost:8080/"
        },
        "id": "pVRi2gfErYS4",
        "outputId": "461f01e7-64cf-42ba-f28b-415881c8d0eb"
      },
      "source": [
        "time_gm[:10]"
      ],
      "execution_count": 25,
      "outputs": [
        {
          "output_type": "execute_result",
          "data": {
            "text/plain": [
              "array([0.00000000e+00, 2.08334167e-05, 4.16668333e-05, 6.25002500e-05,\n",
              "       8.33336667e-05, 1.04167083e-04, 1.25000500e-04, 1.45833917e-04,\n",
              "       1.66667333e-04, 1.87500750e-04])"
            ]
          },
          "metadata": {
            "tags": []
          },
          "execution_count": 25
        }
      ]
    },
    {
      "cell_type": "code",
      "metadata": {
        "id": "liGZz91yracZ"
      },
      "source": [
        ""
      ],
      "execution_count": 25,
      "outputs": []
    },
    {
      "cell_type": "code",
      "metadata": {
        "id": "6fVXLuOLrA_2"
      },
      "source": [
        ""
      ],
      "execution_count": 25,
      "outputs": []
    },
    {
      "cell_type": "code",
      "metadata": {
        "id": "75kJyXN8q6UX"
      },
      "source": [
        ""
      ],
      "execution_count": 25,
      "outputs": []
    },
    {
      "cell_type": "code",
      "metadata": {
        "id": "SQIcBOExq3jf"
      },
      "source": [
        ""
      ],
      "execution_count": 25,
      "outputs": []
    },
    {
      "cell_type": "code",
      "metadata": {
        "id": "yc3uMD0IqR8X"
      },
      "source": [
        ""
      ],
      "execution_count": 25,
      "outputs": []
    },
    {
      "cell_type": "code",
      "metadata": {
        "id": "uGtvsVDup1lW"
      },
      "source": [
        ""
      ],
      "execution_count": 25,
      "outputs": []
    }
  ]
}