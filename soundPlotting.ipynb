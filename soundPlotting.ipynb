{
  "nbformat": 4,
  "nbformat_minor": 0,
  "metadata": {
    "colab": {
      "name": "soundPlotting.ipynb",
      "provenance": [],
      "authorship_tag": "ABX9TyOdCG5xcSxT9juv0q9sl0Vo",
      "include_colab_link": true
    },
    "kernelspec": {
      "name": "python3",
      "display_name": "Python 3"
    }
  },
  "cells": [
    {
      "cell_type": "markdown",
      "metadata": {
        "id": "view-in-github",
        "colab_type": "text"
      },
      "source": [
        "<a href=\"https://colab.research.google.com/github/Mugund-K/DataScienceScribblings/blob/main/soundPlotting.ipynb\" target=\"_parent\"><img src=\"https://colab.research.google.com/assets/colab-badge.svg\" alt=\"Open In Colab\"/></a>"
      ]
    },
    {
      "cell_type": "code",
      "metadata": {
        "id": "vZrahpzgAOuL"
      },
      "source": [
        "import wave\r\n",
        "import numpy as np\r\n",
        "\r\n",
        "good_morning = wave.open('good-morning.wav', 'r')\r\n",
        "good_afternoon = wave.open('good-afternoon.wav', 'r')\r\n",
        "\r\n",
        "signal_gm = good_morning.readframes(-1)\r\n",
        "signal_ga = good_afternoon.readframes(-1)\r\n",
        "\r\n",
        "soundwave_gm = np.frombuffer(signal_gm, dtype='int16')\r\n",
        "soundwave_ga = np.frombuffer(signal_ga, dtype='int16')\r\n",
        "\r\n",
        "framerate_gm = good_morning.getframerate()\r\n",
        "framerate_ga = good_afternoon.getframerate()\r\n",
        "\r\n",
        "time_gm = np.linspace(start=0, stop=len(soundwave_gm)/framerate_gm, num=len(soundwave_gm))\r\n",
        "time_ga = np.linspace(start=0, stop=len(soundwave_ga)/framerate_ga, num=len(soundwave_ga))\r\n"
      ],
      "execution_count": 6,
      "outputs": []
    },
    {
      "cell_type": "code",
      "metadata": {
        "colab": {
          "base_uri": "https://localhost:8080/"
        },
        "id": "HcNS7J5eBh_t",
        "outputId": "985fec30-2195-4605-e697-dc6761514a95"
      },
      "source": [
        "time_ga[:10]"
      ],
      "execution_count": 7,
      "outputs": [
        {
          "output_type": "execute_result",
          "data": {
            "text/plain": [
              "array([0.00000000e+00, 2.08333960e-05, 4.16667921e-05, 6.25001881e-05,\n",
              "       8.33335841e-05, 1.04166980e-04, 1.25000376e-04, 1.45833772e-04,\n",
              "       1.66667168e-04, 1.87500564e-04])"
            ]
          },
          "metadata": {
            "tags": []
          },
          "execution_count": 7
        }
      ]
    },
    {
      "cell_type": "code",
      "metadata": {
        "colab": {
          "base_uri": "https://localhost:8080/"
        },
        "id": "yhDBjRhtBcdk",
        "outputId": "91d7cf3e-0bcc-4d1d-e94d-0a0f7f85d442"
      },
      "source": [
        "time_gm[:10]"
      ],
      "execution_count": 8,
      "outputs": [
        {
          "output_type": "execute_result",
          "data": {
            "text/plain": [
              "array([0.00000000e+00, 2.08334167e-05, 4.16668333e-05, 6.25002500e-05,\n",
              "       8.33336667e-05, 1.04167083e-04, 1.25000500e-04, 1.45833917e-04,\n",
              "       1.66667333e-04, 1.87500750e-04])"
            ]
          },
          "metadata": {
            "tags": []
          },
          "execution_count": 8
        }
      ]
    },
    {
      "cell_type": "code",
      "metadata": {
        "colab": {
          "base_uri": "https://localhost:8080/",
          "height": 281
        },
        "id": "b6JrCoPMBuUG",
        "outputId": "caaf5c16-d453-4e08-e649-3fb91632f179"
      },
      "source": [
        "import matplotlib.pyplot as plt\r\n",
        "\r\n",
        "plt.title(\"Good Afternoon vs Good Morning\")\r\n",
        "plt.xlabel=(\"Time(seconds)\")\r\n",
        "plt.ylabel(\"Amplitude\")\r\n",
        "\r\n",
        "plt.plot(time_ga, soundwave_ga, label=\"Good Afternoon\")\r\n",
        "plt.plot(time_gm, soundwave_gm, label=\"Good Morning\", alpha=0.5)\r\n",
        "\r\n",
        "plt.legend()\r\n",
        "plt.show()"
      ],
      "execution_count": 9,
      "outputs": [
        {
          "output_type": "display_data",
          "data": {
            "image/png": "[encoded data removed]",
            "text/plain": [
              "<Figure size 432x288 with 1 Axes>"
            ]
          },
          "metadata": {
            "tags": [],
            "needs_background": "light"
          }
        }
      ]
    },
    {
      "cell_type": "code",
      "metadata": {
        "id": "Y4m2c8kACJV8"
      },
      "source": [
        ""
      ],
      "execution_count": 9,
      "outputs": []
    }
  ]
}