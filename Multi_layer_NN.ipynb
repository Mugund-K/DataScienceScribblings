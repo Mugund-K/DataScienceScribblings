{
  "nbformat": 4,
  "nbformat_minor": 0,
  "metadata": {
    "colab": {
      "name": "Multi layer NN.ipynb",
      "provenance": [],
      "authorship_tag": "ABX9TyPMKFa8m/BYC6CDFdD4vECQ",
      "include_colab_link": true
    },
    "kernelspec": {
      "name": "python3",
      "display_name": "Python 3"
    }
  },
  "cells": [
    {
      "cell_type": "markdown",
      "metadata": {
        "id": "view-in-github",
        "colab_type": "text"
      },
      "source": [
        "<a href=\"https://colab.research.google.com/github/Mugund-K/DataScienceScribblings/blob/main/Multi_layer_NN.ipynb\" target=\"_parent\"><img src=\"https://colab.research.google.com/assets/colab-badge.svg\" alt=\"Open In Colab\"/></a>"
      ]
    },
    {
      "cell_type": "code",
      "metadata": {
        "id": "EZ9EpY8qNB8Y"
      },
      "source": [
        "# Import required libraries\r\n",
        "\r\n",
        "import numpy as np"
      ],
      "execution_count": null,
      "outputs": []
    },
    {
      "cell_type": "code",
      "metadata": {
        "colab": {
          "base_uri": "https://localhost:8080/"
        },
        "id": "6qMYhDVZNKbO",
        "outputId": "df6b3ca6-4794-479a-8dd1-8bdda0bdd156"
      },
      "source": [
        "# Define input features\r\n",
        "\r\n",
        "input_features = np.array([[0,0],[0,1],[1,0],[1,1]])\r\n",
        "print(input_features.shape)\r\n",
        "input_features"
      ],
      "execution_count": null,
      "outputs": [
        {
          "output_type": "stream",
          "text": [
            "(4, 2)\n"
          ],
          "name": "stdout"
        },
        {
          "output_type": "execute_result",
          "data": {
            "text/plain": [
              "array([[0, 0],\n",
              "       [0, 1],\n",
              "       [1, 0],\n",
              "       [1, 1]])"
            ]
          },
          "metadata": {
            "tags": []
          },
          "execution_count": 3
        }
      ]
    },
    {
      "cell_type": "code",
      "metadata": {
        "colab": {
          "base_uri": "https://localhost:8080/"
        },
        "id": "K4c_LowENsNA",
        "outputId": "524d52c9-69c1-417a-8dcf-3aa3f092ffb9"
      },
      "source": [
        "# Define target output \r\n",
        "\r\n",
        "target_output = np.array([[0,1,1,1]])\r\n",
        "target_output = target_output.reshape(4,1)\r\n",
        "print(target_output.shape)\r\n",
        "target_output"
      ],
      "execution_count": null,
      "outputs": [
        {
          "output_type": "stream",
          "text": [
            "(4, 1)\n"
          ],
          "name": "stdout"
        },
        {
          "output_type": "execute_result",
          "data": {
            "text/plain": [
              "array([[0],\n",
              "       [1],\n",
              "       [1],\n",
              "       [1]])"
            ]
          },
          "metadata": {
            "tags": []
          },
          "execution_count": 4
        }
      ]
    },
    {
      "cell_type": "code",
      "metadata": {
        "id": "NjUSiln1N-l4"
      },
      "source": [
        "# assign random weights\r\n",
        "\r\n",
        "weight_hidden = np.array([[0.1,0.2,0.3],[0.4,0.5,0.6]])\r\n",
        "weight_output = np.array([[0.7],[0.8],[0.9]])\r\n",
        "\r\n",
        "#learning rate\r\n",
        "\r\n",
        "lr = 0.05"
      ],
      "execution_count": null,
      "outputs": []
    },
    {
      "cell_type": "code",
      "metadata": {
        "id": "VdX-5iBKOkbD"
      },
      "source": [
        "# sigmoid function\r\n",
        "\r\n",
        "def sigmoid(x):\r\n",
        "  return 1/(1+np.exp(-x))"
      ],
      "execution_count": null,
      "outputs": []
    },
    {
      "cell_type": "code",
      "metadata": {
        "id": "reFMkBTzOuyL"
      },
      "source": [
        "def sigmoid_der(x):\r\n",
        "  return sigmoid(x)*(1-sigmoid(x))"
      ],
      "execution_count": null,
      "outputs": []
    },
    {
      "cell_type": "code",
      "metadata": {
        "id": "y6W9bfIqO1eE"
      },
      "source": [
        ""
      ],
      "execution_count": null,
      "outputs": []
    },
    {
      "cell_type": "code",
      "metadata": {
        "id": "qwyAjANuOgWb"
      },
      "source": [
        ""
      ],
      "execution_count": null,
      "outputs": []
    },
    {
      "cell_type": "code",
      "metadata": {
        "id": "yHl7Du9LNec3"
      },
      "source": [
        ""
      ],
      "execution_count": null,
      "outputs": []
    }
  ]
}