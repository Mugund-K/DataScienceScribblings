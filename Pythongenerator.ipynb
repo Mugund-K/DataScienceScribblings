{
  "nbformat": 4,
  "nbformat_minor": 0,
  "metadata": {
    "colab": {
      "name": "generator.ipynb",
      "provenance": [],
      "authorship_tag": "ABX9TyPjV+TFPbK6juDKeiVr9Qlq",
      "include_colab_link": true
    },
    "kernelspec": {
      "name": "python3",
      "display_name": "Python 3"
    }
  },
  "cells": [
    {
      "cell_type": "markdown",
      "metadata": {
        "id": "view-in-github",
        "colab_type": "text"
      },
      "source": [
        "<a href=\"https://colab.research.google.com/github/Mugund-K/DataScienceScribblings/blob/main/Pythongenerator.ipynb\" target=\"_parent\"><img src=\"https://colab.research.google.com/assets/colab-badge.svg\" alt=\"Open In Colab\"/></a>"
      ]
    },
    {
      "cell_type": "code",
      "metadata": {
        "colab": {
          "base_uri": "https://localhost:8080/"
        },
        "id": "l74RoMsxgXiW",
        "outputId": "a96213b8-ecfa-4bce-f8d6-9eb1230c4a73"
      },
      "source": [
        "def first(n):\r\n",
        "  num, nums = 0, []\r\n",
        "  while num < n:\r\n",
        "    nums.append(num)\r\n",
        "    num = num + 1\r\n",
        "  print(nums)\r\n",
        "  return nums\r\n",
        "\r\n",
        "sumfirst = sum(first(100))"
      ],
      "execution_count": 1,
      "outputs": [
        {
          "output_type": "stream",
          "text": [
            "[0, 1, 2, 3, 4, 5, 6, 7, 8, 9, 10, 11, 12, 13, 14, 15, 16, 17, 18, 19, 20, 21, 22, 23, 24, 25, 26, 27, 28, 29, 30, 31, 32, 33, 34, 35, 36, 37, 38, 39, 40, 41, 42, 43, 44, 45, 46, 47, 48, 49, 50, 51, 52, 53, 54, 55, 56, 57, 58, 59, 60, 61, 62, 63, 64, 65, 66, 67, 68, 69, 70, 71, 72, 73, 74, 75, 76, 77, 78, 79, 80, 81, 82, 83, 84, 85, 86, 87, 88, 89, 90, 91, 92, 93, 94, 95, 96, 97, 98, 99]\n"
          ],
          "name": "stdout"
        }
      ]
    },
    {
      "cell_type": "code",
      "metadata": {
        "id": "chrLbyOVgtce"
      },
      "source": [
        "class NewFirst(object):\r\n",
        "  def __init__(self, n):\r\n",
        "    self.n = n\r\n",
        "    self.num = 0\r\n",
        "\r\n",
        "  def __iter__(self):\r\n",
        "    return self\r\n",
        "\r\n",
        "  def __next__(self):\r\n",
        "    return self.next()\r\n",
        "\r\n",
        "  def next(self):\r\n",
        "    if self.num < self.n:\r\n",
        "      cur = self.num\r\n",
        "      self.num = self.num+1\r\n",
        "      return cur\r\n",
        "    raise StopIteration\r\n"
      ],
      "execution_count": 3,
      "outputs": []
    },
    {
      "cell_type": "code",
      "metadata": {
        "colab": {
          "base_uri": "https://localhost:8080/"
        },
        "id": "VEqNSKs3hWfp",
        "outputId": "c95804d1-5e70-4ce1-bcd2-5fd0a028ac83"
      },
      "source": [
        "sum_first_n = sum(NewFirst(100))\r\n",
        "print(sum_first_n)"
      ],
      "execution_count": 6,
      "outputs": [
        {
          "output_type": "stream",
          "text": [
            "0\n"
          ],
          "name": "stdout"
        }
      ]
    },
    {
      "cell_type": "code",
      "metadata": {
        "colab": {
          "base_uri": "https://localhost:8080/"
        },
        "id": "Pn3yoaGVh3MW",
        "outputId": "884e6a24-a1d7-4ae8-851f-54506096db90"
      },
      "source": [
        "def secondn(n):\r\n",
        "  num = 0\r\n",
        "  while num < n:\r\n",
        "    yield num\r\n",
        "    num = num + 1\r\n",
        "\r\n",
        "sum_first_n = sum(secondn(100))\r\n",
        "print(sum_first_n)"
      ],
      "execution_count": 7,
      "outputs": [
        {
          "output_type": "stream",
          "text": [
            "4950\n"
          ],
          "name": "stdout"
        }
      ]
    },
    {
      "cell_type": "code",
      "metadata": {
        "colab": {
          "base_uri": "https://localhost:8080/"
        },
        "id": "-aRTSphniayP",
        "outputId": "b4c8e777-b2e1-47e8-98aa-7f9d97066f0d"
      },
      "source": [
        "yield?"
      ],
      "execution_count": 8,
      "outputs": [
        {
          "output_type": "stream",
          "text": [
            "Object `yield` not found.\n"
          ],
          "name": "stdout"
        }
      ]
    },
    {
      "cell_type": "code",
      "metadata": {
        "id": "Yt3DlWKVijvf"
      },
      "source": [
        ""
      ],
      "execution_count": null,
      "outputs": []
    },
    {
      "cell_type": "code",
      "metadata": {
        "id": "5KHd9RO8hguw"
      },
      "source": [
        ""
      ],
      "execution_count": null,
      "outputs": []
    },
    {
      "cell_type": "code",
      "metadata": {
        "id": "_dzx23SchTji"
      },
      "source": [
        ""
      ],
      "execution_count": null,
      "outputs": []
    }
  ]
}